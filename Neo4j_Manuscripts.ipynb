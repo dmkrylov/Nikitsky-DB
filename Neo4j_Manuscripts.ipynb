{
  "nbformat": 4,
  "nbformat_minor": 0,
  "metadata": {
    "colab": {
      "name": "Neo4j_Manuscripts.ipynb",
      "provenance": [],
      "collapsed_sections": []
    },
    "kernelspec": {
      "name": "python3",
      "display_name": "Python 3"
    },
    "language_info": {
      "name": "python"
    }
  },
  "cells": [
    {
      "cell_type": "code",
      "metadata": {
        "colab": {
          "base_uri": "https://localhost:8080/"
        },
        "id": "pPmJXIir86xH",
        "outputId": "3d2e1636-4f53-44c8-b81a-d4851890e46e"
      },
      "source": [
        "!pip install neo4j-driver"
      ],
      "execution_count": null,
      "outputs": [
        {
          "output_type": "stream",
          "text": [
            "Collecting neo4j-driver\n",
            "\u001b[?25l  Downloading https://files.pythonhosted.org/packages/c4/b1/6ef1a2d3d942b61e3740afd9405509c91624cafc314de5cad4913ded2c22/neo4j-driver-4.3.1.tar.gz (74kB)\n",
            "\r\u001b[K     |████▍                           | 10kB 15.6MB/s eta 0:00:01\r\u001b[K     |████████▊                       | 20kB 22.1MB/s eta 0:00:01\r\u001b[K     |█████████████▏                  | 30kB 22.3MB/s eta 0:00:01\r\u001b[K     |█████████████████▌              | 40kB 17.5MB/s eta 0:00:01\r\u001b[K     |██████████████████████          | 51kB 9.5MB/s eta 0:00:01\r\u001b[K     |██████████████████████████▎     | 61kB 8.9MB/s eta 0:00:01\r\u001b[K     |██████████████████████████████▊ | 71kB 9.7MB/s eta 0:00:01\r\u001b[K     |████████████████████████████████| 81kB 6.0MB/s \n",
            "\u001b[?25hRequirement already satisfied: pytz in /usr/local/lib/python3.7/dist-packages (from neo4j-driver) (2018.9)\n",
            "Building wheels for collected packages: neo4j-driver\n",
            "  Building wheel for neo4j-driver (setup.py) ... \u001b[?25l\u001b[?25hdone\n",
            "  Created wheel for neo4j-driver: filename=neo4j_driver-4.3.1-cp37-none-any.whl size=99417 sha256=41ee61a19160a5ef25310621d114711dfbb536b2691eb94270a4e9f278a75171\n",
            "  Stored in directory: /root/.cache/pip/wheels/e1/a2/dc/04723963b2def531187153fcc470f92773eb78c97f8fae50f1\n",
            "Successfully built neo4j-driver\n",
            "Installing collected packages: neo4j-driver\n",
            "Successfully installed neo4j-driver-4.3.1\n"
          ],
          "name": "stdout"
        }
      ]
    },
    {
      "cell_type": "code",
      "metadata": {
        "id": "cbKDli0Z9F8Z"
      },
      "source": [
        "from neo4j import GraphDatabase, basic_auth\n",
        "driver = GraphDatabase.driver(\n",
        "    \"bolt://3.93.240.12:7687\", \n",
        "    auth=basic_auth(\"neo4j\", \"fountains-inventory-twins\"))\n",
        "session = driver.session()"
      ],
      "execution_count": null,
      "outputs": []
    },
    {
      "cell_type": "markdown",
      "metadata": {
        "id": "8rFf4oT3tHiv"
      },
      "source": [
        "# Создание базы"
      ]
    },
    {
      "cell_type": "code",
      "metadata": {
        "id": "E5aj3HrltG0e"
      },
      "source": [
        "manuscripts = session.run(\"LOAD CSV WITH HEADERS FROM 'https://raw.githubusercontent.com/dmkrylov/Nikitsky-DB/main/Nikitsky_manuscripts.csv' AS line \\\n",
        "FIELDTERMINATOR ';' \\\n",
        "WITH line WHERE line.manuscript IS NOT NULL \\\n",
        "CREATE (:manuscript {number: toINteger(line.manuscript), excavation: line.excavation, house: line.house, \\\n",
        "start_wide: toINteger(line.start_wide), end_wide: toINteger(line.end_wide), start_narrow: toINteger(line.start_narrow),\\\n",
        " end_narrow: toInteger(line.end_narrow), total_amount: line.total_amount, letter_type: line.letter_type, high_society: line.high_society})\")"
      ],
      "execution_count": null,
      "outputs": []
    },
    {
      "cell_type": "code",
      "metadata": {
        "id": "hBYjGXbmuLFd"
      },
      "source": [
        "people = session.run(\"LOAD CSV WITH HEADERS FROM 'https://raw.githubusercontent.com/dmkrylov/Nikitsky-DB/main/Nikitsky_people.csv' AS line \\\n",
        "FIELDTERMINATOR ';' \\\n",
        "WITH line  \\\n",
        "CREATE (:person {name: line.name_in_manuscript, id: line.unique_id, number: toINteger(line.manuscript),\\\n",
        " status: line.status, death_year: toINteger(line.death_year), gender: line.gender})\")"
      ],
      "execution_count": null,
      "outputs": []
    },
    {
      "cell_type": "code",
      "metadata": {
        "id": "gUdPVavbuLS8"
      },
      "source": [
        "relation_p_m = session.run(\"OPTIONAL MATCH (n1:person), (n2:manuscript) \\\n",
        "WHERE n1.number = n2.number \\\n",
        "CREATE (n2)-[:Mention]->(n1)\")"
      ],
      "execution_count": null,
      "outputs": []
    },
    {
      "cell_type": "code",
      "metadata": {
        "id": "uHPmqnzJuLfH"
      },
      "source": [
        "relation_p = session.run(\"LOAD CSV WITH HEADERS FROM  'https://raw.githubusercontent.com/dmkrylov/Nikitsky-DB/main/Nikitsky_relationships.csv' as row \\\n",
        "FIELDTERMINATOR ';' \\\n",
        "WITH row \\\n",
        "MATCH (p1:person) WHERE p1.id = row.Source \\\n",
        "MATCH (p2:person) WHERE p2.id = row.Target \\\n",
        "CALL apoc.create.relationship(p1, row.Relation, {type:row.Class}, p2) YIELD rel \\\n",
        "RETURN rel\")"
      ],
      "execution_count": null,
      "outputs": []
    },
    {
      "cell_type": "markdown",
      "metadata": {
        "id": "mtcIP3xbzbd0"
      },
      "source": [
        "**Если будем добавлять новые табличные данные:**"
      ]
    },
    {
      "cell_type": "code",
      "metadata": {
        "id": "7sh9BRoZznKM"
      },
      "source": [
        "def add_manuscripts(table_url):\n",
        "  cypher_query = f\"LOAD CSV WITH HEADERS FROM '{table_url}' AS line FIELDTERMINATOR ';'\" + \"WITH line WHERE line.manuscript IS NOT NULL CREATE (:manuscript {number: toINteger(line.manuscript), excavation: line.excavation, house: line.house, start_wide: toINteger(line.start_wide), end_wide: toINteger(line.end_wide), start_narrow: toINteger(line.start_narrow), end_narrow: toInteger(line.end_narrow), total_amount: line.total_amount, letter_type: line.letter_type, high_society: line.high_society})\"\n",
        "  results = session.run(cypher_query,parameters={})\n",
        "  for record in results:\n",
        "    print(record)"
      ],
      "execution_count": null,
      "outputs": []
    },
    {
      "cell_type": "code",
      "metadata": {
        "id": "zH68xnxXzgsI"
      },
      "source": [
        "def add_people(table_url):\n",
        "  cypher_query = f\"LOAD CSV WITH HEADERS FROM '{table_url}' AS line FIELDTERMINATOR ';'\" + \"WITH line CREATE(:person {name: line.name_in_manuscript, id: line.unique_id, number: toINteger(line.manuscript), status: line.status, death_year: toINteger(line.death_year), gender: line.gender})\"\n",
        "  results = session.run(cypher_query,parameters={})\n",
        "  for record in results:\n",
        "    print(record)"
      ],
      "execution_count": null,
      "outputs": []
    },
    {
      "cell_type": "code",
      "metadata": {
        "id": "VKFoZ2qEzkfG"
      },
      "source": [
        "def union():\n",
        "  cypher_query = \"MATCH (n:person) RETURN n.number as number UNION ALL MATCH (n:manuscript) RETURN n.number as number\"\n",
        "  results = session.run(cypher_query,parameters={})\n",
        "  for record in results:\n",
        "    print(record)"
      ],
      "execution_count": null,
      "outputs": []
    },
    {
      "cell_type": "code",
      "metadata": {
        "id": "SeT7VDPKzqYX"
      },
      "source": [
        "def rel_people_manusсripts():\n",
        "  cypher_query = \"OPTIONAL MATCH (n1:person), (n2:manuscript) WHERE n1.number = n2.number CREATE (n2)-[:Mention]->(n1)\"\n",
        "  results = session.run(cypher_query,parameters={})\n",
        "  for record in results:\n",
        "    print(record)"
      ],
      "execution_count": null,
      "outputs": []
    },
    {
      "cell_type": "code",
      "metadata": {
        "id": "F0xzHL_wzvrS"
      },
      "source": [
        "def rel_of_people(table_url):\n",
        "  cypher_query = f\"LOAD CSV WITH HEADERS FROM  '{table_url}' as row FIELDTERMINATOR ';'\" + \"WITH row MATCH (p1:person) WHERE p1.id = row.Source MATCH (p2:person) WHERE p2.id = row.Target CALL apoc.create.relationship(p1, row.Relation, {type:row.Class}, p2) YIELD rel RETURN rel\"\n",
        "  results = session.run(cypher_query,parameters={})\n",
        "  for record in results:\n",
        "    print(record)"
      ],
      "execution_count": null,
      "outputs": []
    },
    {
      "cell_type": "markdown",
      "metadata": {
        "id": "qqFEqYu-2vHM"
      },
      "source": [
        "**Создаем узлы домов, где были найдены манускрипты**"
      ]
    },
    {
      "cell_type": "code",
      "metadata": {
        "id": "P4q5hawt2suo"
      },
      "source": [
        "nodes = session.run(\"LOAD CSV WITH HEADERS FROM 'https://raw.githubusercontent.com/dmkrylov/Nikitsky-DB/main/Nikitsky_manuscripts.csv' AS line FIELDTERMINATOR ';' WITH line  CREATE (:house {name: line.house, number: toINteger(line.manuscript)})\")"
      ],
      "execution_count": null,
      "outputs": []
    },
    {
      "cell_type": "code",
      "metadata": {
        "id": "jjfM6tqdgqlM"
      },
      "source": [
        "rel = session.run(\"optional MATCH (n1:house), (n2:manuscript) WITH n1, n2 WHERE n1.number = n2.number CREATE (n2)-[:house]->(n1)\")"
      ],
      "execution_count": null,
      "outputs": []
    },
    {
      "cell_type": "code",
      "metadata": {
        "id": "muLar1Nt5BwV"
      },
      "source": [
        "nodes2 = session.run(\"MATCH (n:house) WITH n.name AS name, COLLECT(n) AS nodelist, COUNT(*) AS count WHERE count > 1 CALL apoc.refactor.mergeNodes(nodelist) YIELD node RETURN node\")"
      ],
      "execution_count": null,
      "outputs": []
    },
    {
      "cell_type": "code",
      "metadata": {
        "id": "0RUru6F5tpcx"
      },
      "source": [
        "delete_number = session.run(\"MATCH (h:house) REMOVE h.number\")"
      ],
      "execution_count": null,
      "outputs": []
    },
    {
      "cell_type": "markdown",
      "metadata": {
        "id": "5TLZBsME4y3D"
      },
      "source": [
        "#  Запросы"
      ]
    },
    {
      "cell_type": "markdown",
      "metadata": {
        "id": "4ZwAeX87mIaR"
      },
      "source": [
        "Все люди, **фигурирующие в грамотах**, напрямую и косвенно связанные с посадниками:"
      ]
    },
    {
      "cell_type": "code",
      "metadata": {
        "id": "fxYhU_SfhIux",
        "colab": {
          "base_uri": "https://localhost:8080/"
        },
        "outputId": "56de0129-ec95-4508-8632-5c692882c434"
      },
      "source": [
        "cypher_query = '''MATCH (p2:person {status:\"посадник\"})-[*]->(p1:person)\n",
        "WHERE p1.number <> \"null\"\n",
        "RETURN p1'''\n",
        "results = session.run(cypher_query,\n",
        "  parameters={})\n",
        "\n",
        "for record in set(results):\n",
        "  print(record)"
      ],
      "execution_count": null,
      "outputs": [
        {
          "output_type": "stream",
          "text": [
            "<Record p1=<Node id=52 labels=frozenset({'person'}) properties={'name': 'Самсон Иванов', 'number': 932, 'id': 'samson_932', 'gender': 'm', 'status': 'свидетель?'}>>\n",
            "<Record p1=<Node id=43 labels=frozenset({'person'}) properties={'name': 'Нос', 'number': 937, 'id': 'nos_937', 'gender': 'm', 'status': 'богатый'}>>\n",
            "<Record p1=<Node id=42 labels=frozenset({'person'}) properties={'name': 'Михалко', 'number': 937, 'id': 'mihalko_937', 'gender': 'm', 'status': 'приказчик'}>>\n",
            "<Record p1=<Node id=30 labels=frozenset({'person'}) properties={'name': 'Иван', 'number': 933, 'id': 'ivan_933', 'gender': 'm', 'status': 'посадник'}>>\n",
            "<Record p1=<Node id=29 labels=frozenset({'person'}) properties={'name': 'игумен', 'number': 933, 'id': 'igumen_933', 'gender': 'm', 'status': 'игумен'}>>\n"
          ],
          "name": "stdout"
        }
      ]
    },
    {
      "cell_type": "markdown",
      "metadata": {
        "id": "1_4p64Mn3igd"
      },
      "source": [
        "**посмотреть параметр \"id\" узлов**"
      ]
    },
    {
      "cell_type": "code",
      "metadata": {
        "colab": {
          "base_uri": "https://localhost:8080/"
        },
        "id": "1_66yoNM9Wx5",
        "outputId": "7f26b7d9-738e-4f8c-9b14-fcd2de6be64a"
      },
      "source": [
        "cypher_query = '''\n",
        "MATCH (n)\n",
        "RETURN labels(n) AS id\n",
        "LIMIT 10\n",
        "'''\n",
        "\n",
        "results = session.run(cypher_query,\n",
        "  parameters={})\n",
        "\n",
        "for record in results:\n",
        "  print(record['id'])"
      ],
      "execution_count": null,
      "outputs": [
        {
          "output_type": "stream",
          "text": [
            "['person']\n",
            "['person']\n",
            "['person']\n",
            "['person']\n",
            "['person']\n",
            "['person']\n",
            "['person']\n",
            "['person']\n",
            "['person']\n",
            "['person']\n"
          ],
          "name": "stdout"
        }
      ]
    },
    {
      "cell_type": "markdown",
      "metadata": {
        "id": "HEfFXMei3ndI"
      },
      "source": [
        "**посмотреть атрибуты манускриптов**"
      ]
    },
    {
      "cell_type": "code",
      "metadata": {
        "colab": {
          "base_uri": "https://localhost:8080/"
        },
        "id": "V1t3tS2fximz",
        "outputId": "4ffdf1ec-4d08-4a3b-aabf-cc87e3999f7a"
      },
      "source": [
        "cypher_query = '''MATCH (m:manuscript) RETURN keys(m) limit 1'''\n",
        "\n",
        "results = session.run(cypher_query,\n",
        "  parameters={})\n",
        "\n",
        "for prop in results:\n",
        "  print(prop)"
      ],
      "execution_count": null,
      "outputs": [
        {
          "output_type": "stream",
          "text": [
            "<Record keys(m)=['start_narrow', 'letter_type', 'house', 'start_wide', 'excavation', 'total_amount', 'number', 'end_narrow', 'high_society', 'end_wide']>\n"
          ],
          "name": "stdout"
        }
      ]
    },
    {
      "cell_type": "markdown",
      "metadata": {
        "id": "vd3Dy1oB3rm_"
      },
      "source": [
        "**посмотреть манускрипты**"
      ]
    },
    {
      "cell_type": "code",
      "metadata": {
        "colab": {
          "base_uri": "https://localhost:8080/"
        },
        "id": "PSnDUZvcsd3v",
        "outputId": "d5ba7c36-a4af-4b73-97c5-cb5e3129eabe"
      },
      "source": [
        "cypher_query = '''match (m:manuscript)\n",
        "return m limit 5'''\n",
        "\n",
        "results = session.run(cypher_query,\n",
        "  parameters={})\n",
        "\n",
        "for record in results:\n",
        "  print(record)"
      ],
      "execution_count": null,
      "outputs": [
        {
          "output_type": "stream",
          "text": [
            "<Record m=<Node id=11 labels=frozenset({'manuscript'}) properties={'number': 928, 'total_amount': 'участок земли', 'excavation': 'Никитинский', 'end_narrow': 1450, 'high_society': 'NA', 'end_wide': 1450, 'start_narrow': 1430, 'letter_type': 'раздельная грамота', 'house': 'В', 'start_wide': 1410}>>\n",
            "<Record m=<Node id=12 labels=frozenset({'manuscript'}) properties={'number': 930, 'total_amount': 'NA', 'excavation': 'Никитинский', 'end_narrow': 1410, 'high_society': 'NA', 'end_wide': 1420, 'letter_type': 'церковное', 'start_narrow': 1400, 'house': 'Б', 'start_wide': 1380}>>\n",
            "<Record m=<Node id=13 labels=frozenset({'manuscript'}) properties={'number': 931, 'total_amount': 'NA', 'excavation': 'Никитинский', 'end_narrow': 1410, 'high_society': 'NA', 'end_wide': 1435, 'letter_type': 'бытовое', 'start_narrow': 1400, 'house': 'В', 'start_wide': 1340}>>\n",
            "<Record m=<Node id=14 labels=frozenset({'manuscript'}) properties={'number': 932, 'total_amount': 'NA', 'excavation': 'Никитинский', 'end_narrow': 1410, 'high_society': 'TRUE', 'end_wide': 1433, 'letter_type': 'судебное', 'start_narrow': 1400, 'house': 'В', 'start_wide': 1320}>>\n",
            "<Record m=<Node id=15 labels=frozenset({'manuscript'}) properties={'number': 933, 'total_amount': 'NA', 'excavation': 'Никитинский', 'end_narrow': 1410, 'high_society': 'TRUE', 'end_wide': 1425, 'letter_type': 'бытовое', 'start_narrow': 1400, 'house': 'А', 'start_wide': 1340}>>\n"
          ],
          "name": "stdout"
        }
      ]
    },
    {
      "cell_type": "markdown",
      "metadata": {
        "id": "TcM0IgyK3u7i"
      },
      "source": [
        "**посмотреть статусы людей, посчитать количество людей с данным статусом, показать в порядке убывания**"
      ]
    },
    {
      "cell_type": "code",
      "metadata": {
        "colab": {
          "base_uri": "https://localhost:8080/"
        },
        "id": "-NWsYAIX-HyE",
        "outputId": "fe4c2da7-b1d2-49df-b2d7-c316503a9780"
      },
      "source": [
        "cypher_query = '''\n",
        "MATCH (p:person)\n",
        "RETURN DISTINCT p.status, count(*)\n",
        "ORDER BY COUNT(*) DESC\n",
        "'''\n",
        "results = session.run(cypher_query,\n",
        "parameters={})\n",
        "\n",
        "for record in results:\n",
        "  print(record[\"p.status\"], \"-\", record[\"count(*)\"])"
      ],
      "execution_count": null,
      "outputs": [
        {
          "output_type": "stream",
          "text": [
            "None - 16\n",
            "посадник - 10\n",
            "свидетель? - 4\n",
            "жена - 3\n",
            "должник - 2\n",
            "богатый - 2\n",
            "лично свободный - 1\n",
            "протоколирующий? - 1\n",
            "заимодавец - 1\n",
            "игумен - 1\n",
            "приказчик - 1\n"
          ],
          "name": "stdout"
        }
      ]
    },
    {
      "cell_type": "markdown",
      "metadata": {
        "id": "wJRjRNwr32WX"
      },
      "source": [
        "**посмотреть все связи людей**"
      ]
    },
    {
      "cell_type": "code",
      "metadata": {
        "id": "05zMoLB3DvkC"
      },
      "source": [
        "cypher_query = '''\n",
        "MATCH (p:person)\n",
        "WITH p \n",
        "MATCH (p)-[r]->(p2)-[r2]->(p3)\n",
        "RETURN p, r, p2, r2, p3\n",
        "'''\n",
        "results = session.run(cypher_query,\n",
        "  parameters={})\n",
        "\n",
        "for record in results:\n",
        "  print(record['p']['name'], \"--\", record[\"r\"][\"type\"], \"-->\", record['p2']['name'], \"--\", record[\"r2\"][\"type\"], \"-->\", record['p3']['name'])"
      ],
      "execution_count": null,
      "outputs": []
    },
    {
      "cell_type": "markdown",
      "metadata": {
        "id": "Gi0Bs7Tv4Ke8"
      },
      "source": [
        "**посмотреть, кто кого к кому посылает**"
      ]
    },
    {
      "cell_type": "code",
      "metadata": {
        "colab": {
          "base_uri": "https://localhost:8080/"
        },
        "id": "OvytFJBHH85P",
        "outputId": "3be60165-8b0b-4327-9add-89f793c52321"
      },
      "source": [
        "cypher_query = '''\n",
        "MATCH (p:person)\n",
        "WITH p \n",
        "MATCH path = ()-[:`посылает`]->()-[:`послан к`]->()\n",
        "RETURN path\n",
        "'''\n",
        "results = session.run(cypher_query,\n",
        "  parameters={})\n",
        "\n",
        "for record in set(results):\n",
        "  print(record ['path'])"
      ],
      "execution_count": null,
      "outputs": [
        {
          "output_type": "stream",
          "text": [
            "<Path start=<Node id=36 labels=frozenset({'person'}) properties={'name': 'Юрий', 'number': 937, 'id': 'jurij_937', 'gender': 'm', 'status': 'богатый'}> end=<Node id=43 labels=frozenset({'person'}) properties={'name': 'Нос', 'number': 937, 'id': 'nos_937', 'gender': 'm', 'status': 'богатый'}> size=2>\n",
            "<Path start=<Node id=49 labels=frozenset({'person'}) properties={'name': 'Парфей', 'number': 948, 'id': 'parfej_948', 'gender': 'm'}> end=<Node id=47 labels=frozenset({'person'}) properties={'name': 'Остафья', 'number': 948, 'id': 'ostafja_948', 'gender': 'm'}> size=2>\n"
          ],
          "name": "stdout"
        }
      ]
    },
    {
      "cell_type": "markdown",
      "metadata": {
        "id": "wcCLUsD_4QlD"
      },
      "source": [
        "**найти кратчайший путь от дома Б к дому В**"
      ]
    },
    {
      "cell_type": "code",
      "metadata": {
        "colab": {
          "base_uri": "https://localhost:8080/"
        },
        "id": "eHT-uzud0TqA",
        "outputId": "ebd542bd-d04a-4dfe-f174-28420545af78"
      },
      "source": [
        "cypher_query = '''MATCH (h:house)\n",
        "WITH h\n",
        "MATCH p=shortestPath((h:house {name:'Б'})-[*]-(h2:house {name:'В'}))\n",
        "RETURN p'''\n",
        "\n",
        "results = session.run(cypher_query,\n",
        "  parameters={})\n",
        "\n",
        "print(results)"
      ],
      "execution_count": null,
      "outputs": [
        {
          "output_type": "stream",
          "text": [
            "<neo4j.work.result.Result object at 0x7f50baa65ad0>\n"
          ],
          "name": "stdout"
        }
      ]
    },
    {
      "cell_type": "code",
      "metadata": {
        "id": "T7E0CHFsFiAv",
        "colab": {
          "base_uri": "https://localhost:8080/",
          "height": 323
        },
        "outputId": "c460a0e3-54c1-4ff2-ffe8-597766c83919"
      },
      "source": [
        "group_manuscripts = session.run('Match (p:people)<-[:]-(m:manuscripts)<-[:]-(h:house) return count(p.id) as frequency m.number as number h.name as name')"
      ],
      "execution_count": null,
      "outputs": [
        {
          "output_type": "error",
          "ename": "ConstraintError",
          "evalue": "ignored",
          "traceback": [
            "\u001b[0;31m---------------------------------------------------------------------------\u001b[0m",
            "\u001b[0;31mConstraintError\u001b[0m                           Traceback (most recent call last)",
            "\u001b[0;32m<ipython-input-19-9db20a090099>\u001b[0m in \u001b[0;36m<module>\u001b[0;34m()\u001b[0m\n\u001b[0;32m----> 1\u001b[0;31m \u001b[0mgroup_manuscripts\u001b[0m \u001b[0;34m=\u001b[0m \u001b[0msession\u001b[0m\u001b[0;34m.\u001b[0m\u001b[0mrun\u001b[0m\u001b[0;34m(\u001b[0m\u001b[0;34m'Match (p:people)<-[:]-(m:manuscripts)<-[:]-(h:house) return count(p.id) as frequency m.number as number h.name as name'\u001b[0m\u001b[0;34m)\u001b[0m\u001b[0;34m\u001b[0m\u001b[0;34m\u001b[0m\u001b[0m\n\u001b[0m",
            "\u001b[0;32m/usr/local/lib/python3.7/dist-packages/neo4j/work/simple.py\u001b[0m in \u001b[0;36mrun\u001b[0;34m(self, query, parameters, **kwparameters)\u001b[0m\n\u001b[1;32m    216\u001b[0m \u001b[0;34m\u001b[0m\u001b[0m\n\u001b[1;32m    217\u001b[0m         \u001b[0;32mif\u001b[0m \u001b[0mself\u001b[0m\u001b[0;34m.\u001b[0m\u001b[0m_autoResult\u001b[0m\u001b[0;34m:\u001b[0m\u001b[0;34m\u001b[0m\u001b[0;34m\u001b[0m\u001b[0m\n\u001b[0;32m--> 218\u001b[0;31m             \u001b[0mself\u001b[0m\u001b[0;34m.\u001b[0m\u001b[0m_autoResult\u001b[0m\u001b[0;34m.\u001b[0m\u001b[0m_buffer_all\u001b[0m\u001b[0;34m(\u001b[0m\u001b[0;34m)\u001b[0m  \u001b[0;31m# This will buffer upp all records for the previous auto-transaction\u001b[0m\u001b[0;34m\u001b[0m\u001b[0;34m\u001b[0m\u001b[0m\n\u001b[0m\u001b[1;32m    219\u001b[0m \u001b[0;34m\u001b[0m\u001b[0m\n\u001b[1;32m    220\u001b[0m         \u001b[0;32mif\u001b[0m \u001b[0;32mnot\u001b[0m \u001b[0mself\u001b[0m\u001b[0;34m.\u001b[0m\u001b[0m_connection\u001b[0m\u001b[0;34m:\u001b[0m\u001b[0;34m\u001b[0m\u001b[0;34m\u001b[0m\u001b[0m\n",
            "\u001b[0;32m/usr/local/lib/python3.7/dist-packages/neo4j/work/result.py\u001b[0m in \u001b[0;36m_buffer_all\u001b[0;34m(self)\u001b[0m\n\u001b[1;32m    249\u001b[0m         \"\"\"\n\u001b[1;32m    250\u001b[0m         \u001b[0mrecord_buffer\u001b[0m \u001b[0;34m=\u001b[0m \u001b[0mdeque\u001b[0m\u001b[0;34m(\u001b[0m\u001b[0;34m)\u001b[0m\u001b[0;34m\u001b[0m\u001b[0;34m\u001b[0m\u001b[0m\n\u001b[0;32m--> 251\u001b[0;31m         \u001b[0;32mfor\u001b[0m \u001b[0mrecord\u001b[0m \u001b[0;32min\u001b[0m \u001b[0mself\u001b[0m\u001b[0;34m:\u001b[0m\u001b[0;34m\u001b[0m\u001b[0;34m\u001b[0m\u001b[0m\n\u001b[0m\u001b[1;32m    252\u001b[0m             \u001b[0mrecord_buffer\u001b[0m\u001b[0;34m.\u001b[0m\u001b[0mappend\u001b[0m\u001b[0;34m(\u001b[0m\u001b[0mrecord\u001b[0m\u001b[0;34m)\u001b[0m\u001b[0;34m\u001b[0m\u001b[0;34m\u001b[0m\u001b[0m\n\u001b[1;32m    253\u001b[0m         \u001b[0mself\u001b[0m\u001b[0;34m.\u001b[0m\u001b[0m_closed\u001b[0m \u001b[0;34m=\u001b[0m \u001b[0;32mFalse\u001b[0m\u001b[0;34m\u001b[0m\u001b[0;34m\u001b[0m\u001b[0m\n",
            "\u001b[0;32m/usr/local/lib/python3.7/dist-packages/neo4j/work/result.py\u001b[0m in \u001b[0;36m__iter__\u001b[0;34m(self)\u001b[0m\n\u001b[1;32m    225\u001b[0m \u001b[0;34m\u001b[0m\u001b[0m\n\u001b[1;32m    226\u001b[0m             \u001b[0;32mwhile\u001b[0m \u001b[0mself\u001b[0m\u001b[0;34m.\u001b[0m\u001b[0m_attached\u001b[0m \u001b[0;32mis\u001b[0m \u001b[0;32mTrue\u001b[0m\u001b[0;34m:\u001b[0m  \u001b[0;31m# _attached is set to False for _pull on_summary and _discard on_summary\u001b[0m\u001b[0;34m\u001b[0m\u001b[0;34m\u001b[0m\u001b[0m\n\u001b[0;32m--> 227\u001b[0;31m                 \u001b[0mself\u001b[0m\u001b[0;34m.\u001b[0m\u001b[0m_connection\u001b[0m\u001b[0;34m.\u001b[0m\u001b[0mfetch_message\u001b[0m\u001b[0;34m(\u001b[0m\u001b[0;34m)\u001b[0m  \u001b[0;31m# Receive at least one message from the server, if available.\u001b[0m\u001b[0;34m\u001b[0m\u001b[0;34m\u001b[0m\u001b[0m\n\u001b[0m\u001b[1;32m    228\u001b[0m                 \u001b[0;32mif\u001b[0m \u001b[0mself\u001b[0m\u001b[0;34m.\u001b[0m\u001b[0m_attached\u001b[0m\u001b[0;34m:\u001b[0m\u001b[0;34m\u001b[0m\u001b[0;34m\u001b[0m\u001b[0m\n\u001b[1;32m    229\u001b[0m                     \u001b[0;32mif\u001b[0m \u001b[0mself\u001b[0m\u001b[0;34m.\u001b[0m\u001b[0m_record_buffer\u001b[0m\u001b[0;34m:\u001b[0m\u001b[0;34m\u001b[0m\u001b[0;34m\u001b[0m\u001b[0m\n",
            "\u001b[0;32m/usr/local/lib/python3.7/dist-packages/neo4j/work/result.py\u001b[0m in \u001b[0;36minner\u001b[0;34m(*args, **kwargs)\u001b[0m\n\u001b[1;32m     60\u001b[0m             \u001b[0;32mdef\u001b[0m \u001b[0minner\u001b[0m\u001b[0;34m(\u001b[0m\u001b[0;34m*\u001b[0m\u001b[0margs\u001b[0m\u001b[0;34m,\u001b[0m \u001b[0;34m**\u001b[0m\u001b[0mkwargs\u001b[0m\u001b[0;34m)\u001b[0m\u001b[0;34m:\u001b[0m\u001b[0;34m\u001b[0m\u001b[0;34m\u001b[0m\u001b[0m\n\u001b[1;32m     61\u001b[0m                 \u001b[0;32mtry\u001b[0m\u001b[0;34m:\u001b[0m\u001b[0;34m\u001b[0m\u001b[0;34m\u001b[0m\u001b[0m\n\u001b[0;32m---> 62\u001b[0;31m                     \u001b[0mfunc\u001b[0m\u001b[0;34m(\u001b[0m\u001b[0;34m*\u001b[0m\u001b[0margs\u001b[0m\u001b[0;34m,\u001b[0m \u001b[0;34m**\u001b[0m\u001b[0mkwargs\u001b[0m\u001b[0;34m)\u001b[0m\u001b[0;34m\u001b[0m\u001b[0;34m\u001b[0m\u001b[0m\n\u001b[0m\u001b[1;32m     63\u001b[0m                 \u001b[0;32mfinally\u001b[0m\u001b[0;34m:\u001b[0m\u001b[0;34m\u001b[0m\u001b[0;34m\u001b[0m\u001b[0m\n\u001b[1;32m     64\u001b[0m                     \u001b[0;32mif\u001b[0m \u001b[0mself\u001b[0m\u001b[0;34m.\u001b[0m\u001b[0m_connection\u001b[0m\u001b[0;34m.\u001b[0m\u001b[0mdefunct\u001b[0m\u001b[0;34m(\u001b[0m\u001b[0;34m)\u001b[0m\u001b[0;34m:\u001b[0m\u001b[0;34m\u001b[0m\u001b[0;34m\u001b[0m\u001b[0m\n",
            "\u001b[0;32m/usr/local/lib/python3.7/dist-packages/neo4j/io/_bolt4.py\u001b[0m in \u001b[0;36mfetch_message\u001b[0;34m(self)\u001b[0m\n\u001b[1;32m    269\u001b[0m             \u001b[0mlog\u001b[0m\u001b[0;34m.\u001b[0m\u001b[0mdebug\u001b[0m\u001b[0;34m(\u001b[0m\u001b[0;34m\"[#%04X]  S: FAILURE %r\"\u001b[0m\u001b[0;34m,\u001b[0m \u001b[0mself\u001b[0m\u001b[0;34m.\u001b[0m\u001b[0mlocal_port\u001b[0m\u001b[0;34m,\u001b[0m \u001b[0msummary_metadata\u001b[0m\u001b[0;34m)\u001b[0m\u001b[0;34m\u001b[0m\u001b[0;34m\u001b[0m\u001b[0m\n\u001b[1;32m    270\u001b[0m             \u001b[0;32mtry\u001b[0m\u001b[0;34m:\u001b[0m\u001b[0;34m\u001b[0m\u001b[0;34m\u001b[0m\u001b[0m\n\u001b[0;32m--> 271\u001b[0;31m                 \u001b[0mresponse\u001b[0m\u001b[0;34m.\u001b[0m\u001b[0mon_failure\u001b[0m\u001b[0;34m(\u001b[0m\u001b[0msummary_metadata\u001b[0m \u001b[0;32mor\u001b[0m \u001b[0;34m{\u001b[0m\u001b[0;34m}\u001b[0m\u001b[0;34m)\u001b[0m\u001b[0;34m\u001b[0m\u001b[0;34m\u001b[0m\u001b[0m\n\u001b[0m\u001b[1;32m    272\u001b[0m             \u001b[0;32mexcept\u001b[0m \u001b[0;34m(\u001b[0m\u001b[0mServiceUnavailable\u001b[0m\u001b[0;34m,\u001b[0m \u001b[0mDatabaseUnavailable\u001b[0m\u001b[0;34m)\u001b[0m\u001b[0;34m:\u001b[0m\u001b[0;34m\u001b[0m\u001b[0;34m\u001b[0m\u001b[0m\n\u001b[1;32m    273\u001b[0m                 \u001b[0;32mif\u001b[0m \u001b[0mself\u001b[0m\u001b[0;34m.\u001b[0m\u001b[0mpool\u001b[0m\u001b[0;34m:\u001b[0m\u001b[0;34m\u001b[0m\u001b[0;34m\u001b[0m\u001b[0m\n",
            "\u001b[0;32m/usr/local/lib/python3.7/dist-packages/neo4j/io/_common.py\u001b[0m in \u001b[0;36mon_failure\u001b[0;34m(self, metadata)\u001b[0m\n\u001b[1;32m    181\u001b[0m         \u001b[0;32mif\u001b[0m \u001b[0mcallable\u001b[0m\u001b[0;34m(\u001b[0m\u001b[0mhandler\u001b[0m\u001b[0;34m)\u001b[0m\u001b[0;34m:\u001b[0m\u001b[0;34m\u001b[0m\u001b[0;34m\u001b[0m\u001b[0m\n\u001b[1;32m    182\u001b[0m             \u001b[0mhandler\u001b[0m\u001b[0;34m(\u001b[0m\u001b[0;34m)\u001b[0m\u001b[0;34m\u001b[0m\u001b[0;34m\u001b[0m\u001b[0m\n\u001b[0;32m--> 183\u001b[0;31m         \u001b[0;32mraise\u001b[0m \u001b[0mNeo4jError\u001b[0m\u001b[0;34m.\u001b[0m\u001b[0mhydrate\u001b[0m\u001b[0;34m(\u001b[0m\u001b[0;34m**\u001b[0m\u001b[0mmetadata\u001b[0m\u001b[0;34m)\u001b[0m\u001b[0;34m\u001b[0m\u001b[0;34m\u001b[0m\u001b[0m\n\u001b[0m\u001b[1;32m    184\u001b[0m \u001b[0;34m\u001b[0m\u001b[0m\n\u001b[1;32m    185\u001b[0m     \u001b[0;32mdef\u001b[0m \u001b[0mon_ignored\u001b[0m\u001b[0;34m(\u001b[0m\u001b[0mself\u001b[0m\u001b[0;34m,\u001b[0m \u001b[0mmetadata\u001b[0m\u001b[0;34m=\u001b[0m\u001b[0;32mNone\u001b[0m\u001b[0;34m)\u001b[0m\u001b[0;34m:\u001b[0m\u001b[0;34m\u001b[0m\u001b[0;34m\u001b[0m\u001b[0m\n",
            "\u001b[0;31mConstraintError\u001b[0m: {code: Neo.ClientError.Schema.ConstraintValidationFailed} {message: Cannot delete node<0>, because it still has relationships. To delete this node, you must first delete its relationships.}"
          ]
        }
      ]
    },
    {
      "cell_type": "markdown",
      "metadata": {
        "id": "aXksTekZ4oaK"
      },
      "source": [
        "**посмотреть информацию о человеке**"
      ]
    },
    {
      "cell_type": "code",
      "metadata": {
        "id": "FRphmxHkaHe_"
      },
      "source": [
        "def find_people_by_name():\n",
        "  name = input(\"Введите имя человека, которого хотите посмотреть:\")\n",
        "  cypher_query = 'MATCH (p:person {name:\"'+ name +'\"})RETURN p'\n",
        "  results = session.run(cypher_query,parameters={})\n",
        "  for record in results:\n",
        "    print(record)"
      ],
      "execution_count": null,
      "outputs": []
    },
    {
      "cell_type": "code",
      "metadata": {
        "id": "lwr2-21-cZ2E",
        "colab": {
          "base_uri": "https://localhost:8080/"
        },
        "outputId": "c001de38-1269-447e-f3a1-498ce03b401c"
      },
      "source": [
        "find_people_by_name()"
      ],
      "execution_count": null,
      "outputs": [
        {
          "output_type": "stream",
          "text": [
            "Введите имя персонажа, которого хотите посмотреть:Лука\n",
            "<Record p=<Node id=40 labels=frozenset({'person'}) properties={'name': 'Лука', 'id': 'luka', 'gender': 'm'}>>\n"
          ],
          "name": "stdout"
        }
      ]
    },
    {
      "cell_type": "markdown",
      "metadata": {
        "id": "-PxdmZObiV0y"
      },
      "source": [
        "**Удаляем узлы и связи**"
      ]
    },
    {
      "cell_type": "code",
      "metadata": {
        "id": "AtrBl2XKiYaq"
      },
      "source": [
        "delet = session.run('MATCH (h:house) DETACH DELETE h')"
      ],
      "execution_count": null,
      "outputs": []
    },
    {
      "cell_type": "code",
      "metadata": {
        "id": "njm2fitdrWNf"
      },
      "source": [
        "delet_all = session.run(\"Match (n) Delete n\")"
      ],
      "execution_count": null,
      "outputs": []
    },
    {
      "cell_type": "code",
      "metadata": {
        "id": "XhS-r2nY2HED"
      },
      "source": [
        "del_rel = session.run('Match (n: people {number: 933})-[r: {type: 'relative'}]-() Delete r')"
      ],
      "execution_count": null,
      "outputs": []
    }
  ]
}